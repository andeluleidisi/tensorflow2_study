{
 "cells": [
  {
   "cell_type": "code",
   "execution_count": 1,
   "outputs": [
    {
     "name": "stdout",
     "output_type": "stream",
     "text": [
      "2.5.0\n"
     ]
    },
    {
     "data": {
      "text/plain": "      MPG  Cylinders  Displacement  Horsepower  Weight  Acceleration  \\\n0    18.0          8         307.0       130.0  3504.0          12.0   \n1    15.0          8         350.0       165.0  3693.0          11.5   \n2    18.0          8         318.0       150.0  3436.0          11.0   \n3    16.0          8         304.0       150.0  3433.0          12.0   \n4    17.0          8         302.0       140.0  3449.0          10.5   \n..    ...        ...           ...         ...     ...           ...   \n393  27.0          4         140.0        86.0  2790.0          15.6   \n394  44.0          4          97.0        52.0  2130.0          24.6   \n395  32.0          4         135.0        84.0  2295.0          11.6   \n396  28.0          4         120.0        79.0  2625.0          18.6   \n397  31.0          4         119.0        82.0  2720.0          19.4   \n\n     Model Year  Origin  \n0            70       1  \n1            70       1  \n2            70       1  \n3            70       1  \n4            70       1  \n..          ...     ...  \n393          82       1  \n394          82       2  \n395          82       1  \n396          82       1  \n397          82       1  \n\n[398 rows x 8 columns]",
      "text/html": "<div>\n<style scoped>\n    .dataframe tbody tr th:only-of-type {\n        vertical-align: middle;\n    }\n\n    .dataframe tbody tr th {\n        vertical-align: top;\n    }\n\n    .dataframe thead th {\n        text-align: right;\n    }\n</style>\n<table border=\"1\" class=\"dataframe\">\n  <thead>\n    <tr style=\"text-align: right;\">\n      <th></th>\n      <th>MPG</th>\n      <th>Cylinders</th>\n      <th>Displacement</th>\n      <th>Horsepower</th>\n      <th>Weight</th>\n      <th>Acceleration</th>\n      <th>Model Year</th>\n      <th>Origin</th>\n    </tr>\n  </thead>\n  <tbody>\n    <tr>\n      <th>0</th>\n      <td>18.0</td>\n      <td>8</td>\n      <td>307.0</td>\n      <td>130.0</td>\n      <td>3504.0</td>\n      <td>12.0</td>\n      <td>70</td>\n      <td>1</td>\n    </tr>\n    <tr>\n      <th>1</th>\n      <td>15.0</td>\n      <td>8</td>\n      <td>350.0</td>\n      <td>165.0</td>\n      <td>3693.0</td>\n      <td>11.5</td>\n      <td>70</td>\n      <td>1</td>\n    </tr>\n    <tr>\n      <th>2</th>\n      <td>18.0</td>\n      <td>8</td>\n      <td>318.0</td>\n      <td>150.0</td>\n      <td>3436.0</td>\n      <td>11.0</td>\n      <td>70</td>\n      <td>1</td>\n    </tr>\n    <tr>\n      <th>3</th>\n      <td>16.0</td>\n      <td>8</td>\n      <td>304.0</td>\n      <td>150.0</td>\n      <td>3433.0</td>\n      <td>12.0</td>\n      <td>70</td>\n      <td>1</td>\n    </tr>\n    <tr>\n      <th>4</th>\n      <td>17.0</td>\n      <td>8</td>\n      <td>302.0</td>\n      <td>140.0</td>\n      <td>3449.0</td>\n      <td>10.5</td>\n      <td>70</td>\n      <td>1</td>\n    </tr>\n    <tr>\n      <th>...</th>\n      <td>...</td>\n      <td>...</td>\n      <td>...</td>\n      <td>...</td>\n      <td>...</td>\n      <td>...</td>\n      <td>...</td>\n      <td>...</td>\n    </tr>\n    <tr>\n      <th>393</th>\n      <td>27.0</td>\n      <td>4</td>\n      <td>140.0</td>\n      <td>86.0</td>\n      <td>2790.0</td>\n      <td>15.6</td>\n      <td>82</td>\n      <td>1</td>\n    </tr>\n    <tr>\n      <th>394</th>\n      <td>44.0</td>\n      <td>4</td>\n      <td>97.0</td>\n      <td>52.0</td>\n      <td>2130.0</td>\n      <td>24.6</td>\n      <td>82</td>\n      <td>2</td>\n    </tr>\n    <tr>\n      <th>395</th>\n      <td>32.0</td>\n      <td>4</td>\n      <td>135.0</td>\n      <td>84.0</td>\n      <td>2295.0</td>\n      <td>11.6</td>\n      <td>82</td>\n      <td>1</td>\n    </tr>\n    <tr>\n      <th>396</th>\n      <td>28.0</td>\n      <td>4</td>\n      <td>120.0</td>\n      <td>79.0</td>\n      <td>2625.0</td>\n      <td>18.6</td>\n      <td>82</td>\n      <td>1</td>\n    </tr>\n    <tr>\n      <th>397</th>\n      <td>31.0</td>\n      <td>4</td>\n      <td>119.0</td>\n      <td>82.0</td>\n      <td>2720.0</td>\n      <td>19.4</td>\n      <td>82</td>\n      <td>1</td>\n    </tr>\n  </tbody>\n</table>\n<p>398 rows × 8 columns</p>\n</div>"
     },
     "execution_count": 1,
     "metadata": {},
     "output_type": "execute_result"
    }
   ],
   "source": [
    "from __future__ import absolute_import, division, print_function, unicode_literals\n",
    "\n",
    "import pathlib\n",
    "import os\n",
    "os.environ['TF_CPP_MIN_LOG_LEVEL'] = '2'\n",
    "\n",
    "\n",
    "import matplotlib.pyplot as plt\n",
    "import pandas as pd\n",
    "import seaborn as sns\n",
    "\n",
    "import tensorflow as tf\n",
    "\n",
    "from tensorflow import keras\n",
    "from tensorflow.keras import layers, losses\n",
    "\n",
    "print(tf.__version__)\n",
    "\n",
    "\n",
    "# 在线下载汽车效能数据集\n",
    "dataset_path = keras.utils.get_file(\"auto-mpg.data\", \"http://archive.ics.uci.edu/ml/machine-learning-databases/auto-mpg/auto-mpg.data\")\n",
    "\n",
    "# 效能（公里数每加仑），气缸数，排量，马力，重量\n",
    "# 加速度，型号年份，产地\n",
    "column_names = ['MPG','Cylinders','Displacement','Horsepower','Weight',\n",
    "                'Acceleration', 'Model Year', 'Origin']\n",
    "raw_dataset = pd.read_csv(dataset_path, names=column_names,\n",
    "                      na_values = \"?\", comment='\\t',\n",
    "                      sep=\" \", skipinitialspace=True)\n",
    "\n",
    "dataset = raw_dataset.copy()\n",
    "# 查看部分数据\n",
    "dataset.tail()\n",
    "dataset.head()\n",
    "dataset"
   ],
   "metadata": {
    "collapsed": false,
    "pycharm": {
     "name": "#%%\n"
    }
   }
  },
  {
   "cell_type": "code",
   "execution_count": null,
   "outputs": [],
   "source": [],
   "metadata": {
    "collapsed": false,
    "pycharm": {
     "name": "#%%\n"
    }
   }
  },
  {
   "cell_type": "code",
   "execution_count": 3,
   "outputs": [
    {
     "data": {
      "text/plain": "MPG             0\nCylinders       0\nDisplacement    0\nHorsepower      0\nWeight          0\nAcceleration    0\nModel Year      0\nOrigin          0\ndtype: int64"
     },
     "execution_count": 3,
     "metadata": {},
     "output_type": "execute_result"
    }
   ],
   "source": [
    "# 统计空白数据,并清除\n",
    "dataset.isna().sum()"
   ],
   "metadata": {
    "collapsed": false,
    "pycharm": {
     "name": "#%%\n"
    }
   }
  },
  {
   "cell_type": "code",
   "execution_count": null,
   "outputs": [],
   "source": [
    "dataset = dataset.dropna()\n",
    "dataset.isna().sum()"
   ],
   "metadata": {
    "collapsed": false,
    "pycharm": {
     "name": "#%%\n"
    }
   }
  },
  {
   "cell_type": "code",
   "execution_count": null,
   "outputs": [],
   "source": [
    "# 处理类别型数据，其中origin列代表了类别1,2,3,分布代表产地：美国、欧洲、日本\n",
    "# 其弹出这一列\n",
    "origin = dataset.pop('Origin')\n",
    "# 根据origin列来写入新列\n",
    "dataset['USA'] = (origin == 1)*1.0\n",
    "dataset['Europe'] = (origin == 2)*1.0\n",
    "dataset['Japan'] = (origin == 3)*1.0\n",
    "dataset.tail()\n",
    "\n",
    "\n",
    "# 切分为训练集和测试集\n",
    "train_dataset = dataset.sample(frac=0.8,random_state=0)\n",
    "test_dataset = dataset.drop(train_dataset.index)\n"
   ],
   "metadata": {
    "collapsed": false,
    "pycharm": {
     "name": "#%%\n"
    }
   }
  },
  {
   "cell_type": "code",
   "execution_count": null,
   "outputs": [],
   "source": [
    "sns.pairplot(train_dataset[[\"Cylinders\", \"Displacement\", \"Weight\", \"MPG\"]],\n",
    "diag_kind=\"kde\")"
   ],
   "metadata": {
    "collapsed": false,
    "pycharm": {
     "name": "#%% 统计数据\n"
    }
   }
  },
  {
   "cell_type": "code",
   "execution_count": null,
   "outputs": [],
   "source": [
    "# 查看训练集的输入X的统计数据\n",
    "train_stats = train_dataset.describe()\n",
    "train_stats.pop(\"MPG\")\n",
    "train_stats = train_stats.transpose()\n",
    "train_stats\n",
    "\n",
    "\n",
    "# 移动MPG油耗效能这一列为真实标签Y\n",
    "train_labels = train_dataset.pop('MPG')\n",
    "test_labels = test_dataset.pop('MPG')\n",
    "\n",
    "\n",
    "# 标准化数据\n",
    "def norm(x):\n",
    "  return (x - train_stats['mean']) / train_stats['std']\n",
    "normed_train_data = norm(train_dataset)\n",
    "normed_test_data = norm(test_dataset)"
   ],
   "metadata": {
    "collapsed": false,
    "pycharm": {
     "name": "#%%\n"
    }
   }
  },
  {
   "cell_type": "code",
   "execution_count": null,
   "outputs": [],
   "source": [
    "print(normed_train_data.shape,train_labels.shape)\n",
    "print(normed_test_data.shape, test_labels.shape)"
   ],
   "metadata": {
    "collapsed": false,
    "pycharm": {
     "name": "#%%\n"
    }
   }
  },
  {
   "cell_type": "code",
   "execution_count": null,
   "outputs": [],
   "source": [
    "class Network(keras.Model):\n",
    "    # 回归网络\n",
    "    def __init__(self):\n",
    "        super(Network, self).__init__()\n",
    "        # 创建3个全连接层\n",
    "        self.fc1 = layers.Dense(64, activation='relu')\n",
    "        self.fc2 = layers.Dense(64, activation='relu')\n",
    "        self.fc3 = layers.Dense(1)\n",
    "\n",
    "    def call(self, inputs, training=None, mask=None):\n",
    "        # 依次通过3个全连接层\n",
    "        x = self.fc1(inputs)\n",
    "        x = self.fc2(x)\n",
    "        x = self.fc3(x)\n",
    "\n",
    "        return x\n",
    "\n",
    "model = Network()\n",
    "model.build(input_shape=(None, 9))\n",
    "model.summary()\n",
    "optimizer = tf.keras.optimizers.RMSprop(0.001)\n",
    "train_db = tf.data.Dataset.from_tensor_slices((normed_train_data.values, train_labels.values))\n",
    "train_db = train_db.shuffle(100).batch(32)\n",
    "\n",
    "# # 未训练时测试\n",
    "# example_batch = normed_train_data[:10]\n",
    "# example_result = model.predict(example_batch)\n",
    "# example_result\n",
    "\n",
    "\n",
    "train_mae_losses = []\n",
    "test_mae_losses = []\n",
    "for epoch in range(200):\n",
    "    for step, (x,y) in enumerate(train_db):\n",
    "\n",
    "        with tf.GradientTape() as tape:\n",
    "            out = model(x)\n",
    "            loss = tf.reduce_mean(losses.MSE(y, out))\n",
    "            mae_loss = tf.reduce_mean(losses.MAE(y, out))\n",
    "\n",
    "        if step % 10 == 0:\n",
    "            print(epoch, step, float(loss))\n",
    "\n",
    "        grads = tape.gradient(loss, model.trainable_variables)\n",
    "        optimizer.apply_gradients(zip(grads, model.trainable_variables))\n",
    "\n",
    "    train_mae_losses.append(float(mae_loss))\n",
    "    out = model(tf.constant(normed_test_data.values))\n",
    "    test_mae_losses.append(tf.reduce_mean(losses.MAE(test_labels, out)))\n",
    "\n",
    "\n",
    "plt.figure()\n",
    "plt.xlabel('Epoch')\n",
    "plt.ylabel('MAE')\n",
    "plt.plot(train_mae_losses,  label='Train')\n",
    "\n",
    "plt.plot(test_mae_losses, label='Test')\n",
    "plt.legend()\n",
    "\n",
    "# plt.ylim([0,10])\n",
    "plt.legend()\n",
    "plt.savefig('auto.svg')\n",
    "plt.show()\n",
    "\n",
    "\n"
   ],
   "metadata": {
    "collapsed": false,
    "pycharm": {
     "name": "#%%\n"
    }
   }
  },
  {
   "cell_type": "code",
   "execution_count": null,
   "metadata": {
    "collapsed": true
   },
   "outputs": [],
   "source": [
    "\n"
   ]
  }
 ],
 "metadata": {
  "kernelspec": {
   "display_name": "Python 3",
   "language": "python",
   "name": "python3"
  },
  "language_info": {
   "codemirror_mode": {
    "name": "ipython",
    "version": 2
   },
   "file_extension": ".py",
   "mimetype": "text/x-python",
   "name": "python",
   "nbconvert_exporter": "python",
   "pygments_lexer": "ipython2",
   "version": "2.7.6"
  }
 },
 "nbformat": 4,
 "nbformat_minor": 0
}
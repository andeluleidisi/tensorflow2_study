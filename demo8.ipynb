{
 "cells": [
  {
   "cell_type": "code",
   "execution_count": 16,
   "metadata": {
    "collapsed": true
   },
   "outputs": [
    {
     "data": {
      "text/plain": "    MPG  Cylinders  Displacement  Horsepower  Weight  Acceleration  \\\n0  18.0          8         307.0       130.0  3504.0          12.0   \n1  15.0          8         350.0       165.0  3693.0          11.5   \n2  18.0          8         318.0       150.0  3436.0          11.0   \n3  16.0          8         304.0       150.0  3433.0          12.0   \n4  17.0          8         302.0       140.0  3449.0          10.5   \n\n   Model Year  Origin  \n0          70       1  \n1          70       1  \n2          70       1  \n3          70       1  \n4          70       1  ",
      "text/html": "<div>\n<style scoped>\n    .dataframe tbody tr th:only-of-type {\n        vertical-align: middle;\n    }\n\n    .dataframe tbody tr th {\n        vertical-align: top;\n    }\n\n    .dataframe thead th {\n        text-align: right;\n    }\n</style>\n<table border=\"1\" class=\"dataframe\">\n  <thead>\n    <tr style=\"text-align: right;\">\n      <th></th>\n      <th>MPG</th>\n      <th>Cylinders</th>\n      <th>Displacement</th>\n      <th>Horsepower</th>\n      <th>Weight</th>\n      <th>Acceleration</th>\n      <th>Model Year</th>\n      <th>Origin</th>\n    </tr>\n  </thead>\n  <tbody>\n    <tr>\n      <th>0</th>\n      <td>18.0</td>\n      <td>8</td>\n      <td>307.0</td>\n      <td>130.0</td>\n      <td>3504.0</td>\n      <td>12.0</td>\n      <td>70</td>\n      <td>1</td>\n    </tr>\n    <tr>\n      <th>1</th>\n      <td>15.0</td>\n      <td>8</td>\n      <td>350.0</td>\n      <td>165.0</td>\n      <td>3693.0</td>\n      <td>11.5</td>\n      <td>70</td>\n      <td>1</td>\n    </tr>\n    <tr>\n      <th>2</th>\n      <td>18.0</td>\n      <td>8</td>\n      <td>318.0</td>\n      <td>150.0</td>\n      <td>3436.0</td>\n      <td>11.0</td>\n      <td>70</td>\n      <td>1</td>\n    </tr>\n    <tr>\n      <th>3</th>\n      <td>16.0</td>\n      <td>8</td>\n      <td>304.0</td>\n      <td>150.0</td>\n      <td>3433.0</td>\n      <td>12.0</td>\n      <td>70</td>\n      <td>1</td>\n    </tr>\n    <tr>\n      <th>4</th>\n      <td>17.0</td>\n      <td>8</td>\n      <td>302.0</td>\n      <td>140.0</td>\n      <td>3449.0</td>\n      <td>10.5</td>\n      <td>70</td>\n      <td>1</td>\n    </tr>\n  </tbody>\n</table>\n</div>"
     },
     "execution_count": 16,
     "metadata": {},
     "output_type": "execute_result"
    }
   ],
   "source": [
    "import tensorflow as tf\n",
    "import pandas as pd\n",
    "import tensorflow.keras as keras\n",
    "from tensorflow.keras import layers,losses\n",
    "\n",
    "dataset_path = keras.utils.get_file(\"auto-mpg.data\", \"http://archive.ics.uci.edu/ml/machine-learning-databases/auto-mpg/auto-mpg.data\")\n",
    "\n",
    "column_names = ['MPG','Cylinders','Displacement','Horsepower','Weight',\n",
    "                'Acceleration', 'Model Year', 'Origin']\n",
    "\n",
    "raw_dataset = pd.read_csv(dataset_path, names=column_names,\n",
    "                      na_values = \"?\", comment='\\t',\n",
    "                      sep=\" \", skipinitialspace=True)\n",
    "\n",
    "dataset =raw_dataset.copy()\n",
    "\n",
    "dataset.head()"
   ]
  },
  {
   "cell_type": "code",
   "execution_count": 17,
   "outputs": [
    {
     "data": {
      "text/plain": "MPG             0\nCylinders       0\nDisplacement    0\nHorsepower      6\nWeight          0\nAcceleration    0\nModel Year      0\nOrigin          0\ndtype: int64"
     },
     "execution_count": 17,
     "metadata": {},
     "output_type": "execute_result"
    }
   ],
   "source": [
    "dataset.isna().sum()"
   ],
   "metadata": {
    "collapsed": false,
    "pycharm": {
     "name": "#%%\n"
    }
   }
  },
  {
   "cell_type": "code",
   "execution_count": 18,
   "outputs": [
    {
     "data": {
      "text/plain": "MPG             0\nCylinders       0\nDisplacement    0\nHorsepower      0\nWeight          0\nAcceleration    0\nModel Year      0\nOrigin          0\ndtype: int64"
     },
     "execution_count": 18,
     "metadata": {},
     "output_type": "execute_result"
    }
   ],
   "source": [
    "dataset = dataset.dropna()\n",
    "dataset.isna().sum()"
   ],
   "metadata": {
    "collapsed": false,
    "pycharm": {
     "name": "#%%\n"
    }
   }
  },
  {
   "cell_type": "code",
   "execution_count": 19,
   "outputs": [
    {
     "data": {
      "text/plain": "      MPG  Cylinders  Displacement  Horsepower  Weight  Acceleration  \\\n393  27.0          4         140.0        86.0  2790.0          15.6   \n394  44.0          4          97.0        52.0  2130.0          24.6   \n395  32.0          4         135.0        84.0  2295.0          11.6   \n396  28.0          4         120.0        79.0  2625.0          18.6   \n397  31.0          4         119.0        82.0  2720.0          19.4   \n\n     Model Year  USA  Europe  Japan  \n393          82  1.0     0.0    0.0  \n394          82  0.0     1.0    0.0  \n395          82  1.0     0.0    0.0  \n396          82  1.0     0.0    0.0  \n397          82  1.0     0.0    0.0  ",
      "text/html": "<div>\n<style scoped>\n    .dataframe tbody tr th:only-of-type {\n        vertical-align: middle;\n    }\n\n    .dataframe tbody tr th {\n        vertical-align: top;\n    }\n\n    .dataframe thead th {\n        text-align: right;\n    }\n</style>\n<table border=\"1\" class=\"dataframe\">\n  <thead>\n    <tr style=\"text-align: right;\">\n      <th></th>\n      <th>MPG</th>\n      <th>Cylinders</th>\n      <th>Displacement</th>\n      <th>Horsepower</th>\n      <th>Weight</th>\n      <th>Acceleration</th>\n      <th>Model Year</th>\n      <th>USA</th>\n      <th>Europe</th>\n      <th>Japan</th>\n    </tr>\n  </thead>\n  <tbody>\n    <tr>\n      <th>393</th>\n      <td>27.0</td>\n      <td>4</td>\n      <td>140.0</td>\n      <td>86.0</td>\n      <td>2790.0</td>\n      <td>15.6</td>\n      <td>82</td>\n      <td>1.0</td>\n      <td>0.0</td>\n      <td>0.0</td>\n    </tr>\n    <tr>\n      <th>394</th>\n      <td>44.0</td>\n      <td>4</td>\n      <td>97.0</td>\n      <td>52.0</td>\n      <td>2130.0</td>\n      <td>24.6</td>\n      <td>82</td>\n      <td>0.0</td>\n      <td>1.0</td>\n      <td>0.0</td>\n    </tr>\n    <tr>\n      <th>395</th>\n      <td>32.0</td>\n      <td>4</td>\n      <td>135.0</td>\n      <td>84.0</td>\n      <td>2295.0</td>\n      <td>11.6</td>\n      <td>82</td>\n      <td>1.0</td>\n      <td>0.0</td>\n      <td>0.0</td>\n    </tr>\n    <tr>\n      <th>396</th>\n      <td>28.0</td>\n      <td>4</td>\n      <td>120.0</td>\n      <td>79.0</td>\n      <td>2625.0</td>\n      <td>18.6</td>\n      <td>82</td>\n      <td>1.0</td>\n      <td>0.0</td>\n      <td>0.0</td>\n    </tr>\n    <tr>\n      <th>397</th>\n      <td>31.0</td>\n      <td>4</td>\n      <td>119.0</td>\n      <td>82.0</td>\n      <td>2720.0</td>\n      <td>19.4</td>\n      <td>82</td>\n      <td>1.0</td>\n      <td>0.0</td>\n      <td>0.0</td>\n    </tr>\n  </tbody>\n</table>\n</div>"
     },
     "execution_count": 19,
     "metadata": {},
     "output_type": "execute_result"
    }
   ],
   "source": [
    "origin = dataset.pop(\"Origin\")\n",
    "dataset['USA'] = (origin == 1)*1.0\n",
    "dataset['Europe'] = (origin == 2)*1.0\n",
    "dataset['Japan'] = (origin == 3)*1.0\n",
    "dataset.tail()"
   ],
   "metadata": {
    "collapsed": false,
    "pycharm": {
     "name": "#%%\n"
    }
   }
  },
  {
   "cell_type": "code",
   "execution_count": 20,
   "outputs": [],
   "source": [
    "train_dataset = dataset.sample(frac=0.8,random_state=0)\n",
    "test_dataset = dataset.drop(train_dataset.index)"
   ],
   "metadata": {
    "collapsed": false,
    "pycharm": {
     "name": "#%%\n"
    }
   }
  },
  {
   "cell_type": "code",
   "execution_count": 21,
   "outputs": [
    {
     "data": {
      "text/plain": "              count         mean         std     min      25%     50%  \\\nCylinders     314.0     5.477707    1.699788     3.0     4.00     4.0   \nDisplacement  314.0   195.318471  104.331589    68.0   105.50   151.0   \nHorsepower    314.0   104.869427   38.096214    46.0    76.25    94.5   \nWeight        314.0  2990.251592  843.898596  1649.0  2256.50  2822.5   \nAcceleration  314.0    15.559236    2.789230     8.0    13.80    15.5   \nModel Year    314.0    75.898089    3.675642    70.0    73.00    76.0   \nUSA           314.0     0.624204    0.485101     0.0     0.00     1.0   \nEurope        314.0     0.178344    0.383413     0.0     0.00     0.0   \nJapan         314.0     0.197452    0.398712     0.0     0.00     0.0   \n\n                  75%     max  \nCylinders        8.00     8.0  \nDisplacement   265.75   455.0  \nHorsepower     128.00   225.0  \nWeight        3608.00  5140.0  \nAcceleration    17.20    24.8  \nModel Year      79.00    82.0  \nUSA              1.00     1.0  \nEurope           0.00     1.0  \nJapan            0.00     1.0  ",
      "text/html": "<div>\n<style scoped>\n    .dataframe tbody tr th:only-of-type {\n        vertical-align: middle;\n    }\n\n    .dataframe tbody tr th {\n        vertical-align: top;\n    }\n\n    .dataframe thead th {\n        text-align: right;\n    }\n</style>\n<table border=\"1\" class=\"dataframe\">\n  <thead>\n    <tr style=\"text-align: right;\">\n      <th></th>\n      <th>count</th>\n      <th>mean</th>\n      <th>std</th>\n      <th>min</th>\n      <th>25%</th>\n      <th>50%</th>\n      <th>75%</th>\n      <th>max</th>\n    </tr>\n  </thead>\n  <tbody>\n    <tr>\n      <th>Cylinders</th>\n      <td>314.0</td>\n      <td>5.477707</td>\n      <td>1.699788</td>\n      <td>3.0</td>\n      <td>4.00</td>\n      <td>4.0</td>\n      <td>8.00</td>\n      <td>8.0</td>\n    </tr>\n    <tr>\n      <th>Displacement</th>\n      <td>314.0</td>\n      <td>195.318471</td>\n      <td>104.331589</td>\n      <td>68.0</td>\n      <td>105.50</td>\n      <td>151.0</td>\n      <td>265.75</td>\n      <td>455.0</td>\n    </tr>\n    <tr>\n      <th>Horsepower</th>\n      <td>314.0</td>\n      <td>104.869427</td>\n      <td>38.096214</td>\n      <td>46.0</td>\n      <td>76.25</td>\n      <td>94.5</td>\n      <td>128.00</td>\n      <td>225.0</td>\n    </tr>\n    <tr>\n      <th>Weight</th>\n      <td>314.0</td>\n      <td>2990.251592</td>\n      <td>843.898596</td>\n      <td>1649.0</td>\n      <td>2256.50</td>\n      <td>2822.5</td>\n      <td>3608.00</td>\n      <td>5140.0</td>\n    </tr>\n    <tr>\n      <th>Acceleration</th>\n      <td>314.0</td>\n      <td>15.559236</td>\n      <td>2.789230</td>\n      <td>8.0</td>\n      <td>13.80</td>\n      <td>15.5</td>\n      <td>17.20</td>\n      <td>24.8</td>\n    </tr>\n    <tr>\n      <th>Model Year</th>\n      <td>314.0</td>\n      <td>75.898089</td>\n      <td>3.675642</td>\n      <td>70.0</td>\n      <td>73.00</td>\n      <td>76.0</td>\n      <td>79.00</td>\n      <td>82.0</td>\n    </tr>\n    <tr>\n      <th>USA</th>\n      <td>314.0</td>\n      <td>0.624204</td>\n      <td>0.485101</td>\n      <td>0.0</td>\n      <td>0.00</td>\n      <td>1.0</td>\n      <td>1.00</td>\n      <td>1.0</td>\n    </tr>\n    <tr>\n      <th>Europe</th>\n      <td>314.0</td>\n      <td>0.178344</td>\n      <td>0.383413</td>\n      <td>0.0</td>\n      <td>0.00</td>\n      <td>0.0</td>\n      <td>0.00</td>\n      <td>1.0</td>\n    </tr>\n    <tr>\n      <th>Japan</th>\n      <td>314.0</td>\n      <td>0.197452</td>\n      <td>0.398712</td>\n      <td>0.0</td>\n      <td>0.00</td>\n      <td>0.0</td>\n      <td>0.00</td>\n      <td>1.0</td>\n    </tr>\n  </tbody>\n</table>\n</div>"
     },
     "execution_count": 21,
     "metadata": {},
     "output_type": "execute_result"
    }
   ],
   "source": [
    "train_stats = train_dataset.describe()\n",
    "train_stats.pop(\"MPG\")\n",
    "train_stats = train_stats.transpose()\n",
    "train_stats"
   ],
   "metadata": {
    "collapsed": false,
    "pycharm": {
     "name": "#%%\n"
    }
   }
  },
  {
   "cell_type": "code",
   "execution_count": 22,
   "outputs": [],
   "source": [
    "train_labels = train_dataset.pop(\"MPG\")\n",
    "test_labels = test_dataset.pop(\"MPG\")"
   ],
   "metadata": {
    "collapsed": false,
    "pycharm": {
     "name": "#%%\n"
    }
   }
  },
  {
   "cell_type": "code",
   "execution_count": 23,
   "outputs": [],
   "source": [
    "# 标准化数据\n",
    "def norm(x):\n",
    "    # 标准差标准化\n",
    "    return (x-train_stats[\"mean\"])/train_stats['std']"
   ],
   "metadata": {
    "collapsed": false,
    "pycharm": {
     "name": "#%%\n"
    }
   }
  },
  {
   "cell_type": "code",
   "execution_count": 24,
   "outputs": [
    {
     "name": "stdout",
     "output_type": "stream",
     "text": [
      "     Cylinders  Displacement  Horsepower    Weight  Acceleration  Model Year  \\\n",
      "146  -0.869348     -1.009459   -0.784052 -1.025303     -0.379759   -0.516397   \n",
      "282  -0.869348     -0.530218   -0.442811 -0.118796      0.624102    0.843910   \n",
      "69    1.483887      1.482595    1.447140  1.736877     -0.738281   -1.060519   \n",
      "378  -0.869348     -0.865687   -1.099044 -1.025303     -0.308055    1.660094   \n",
      "331  -0.869348     -0.942365   -0.994047 -1.001603      0.875068    1.115971   \n",
      "..         ...           ...         ...       ...           ...         ...   \n",
      "281   0.307270      0.044872   -0.521559 -0.000298      0.946772    0.843910   \n",
      "229   1.483887      1.961837    1.972127  1.457223     -1.598734    0.299787   \n",
      "150  -0.869348     -0.836932   -0.311564 -0.710099     -0.021237   -0.516397   \n",
      "145  -0.869348     -1.076553   -1.151543 -1.169870      1.233589   -0.516397   \n",
      "182  -0.869348     -0.846517   -0.495310 -0.623596     -0.021237    0.027726   \n",
      "\n",
      "          USA    Europe     Japan  \n",
      "146  0.774676 -0.465148 -0.495225  \n",
      "282  0.774676 -0.465148 -0.495225  \n",
      "69   0.774676 -0.465148 -0.495225  \n",
      "378  0.774676 -0.465148 -0.495225  \n",
      "331 -1.286751 -0.465148  2.012852  \n",
      "..        ...       ...       ...  \n",
      "281  0.774676 -0.465148 -0.495225  \n",
      "229  0.774676 -0.465148 -0.495225  \n",
      "150 -1.286751 -0.465148  2.012852  \n",
      "145 -1.286751 -0.465148  2.012852  \n",
      "182 -1.286751  2.143005 -0.495225  \n",
      "\n",
      "[314 rows x 9 columns]\n",
      "     Cylinders  Displacement  Horsepower    Weight  Acceleration  Model Year  \\\n",
      "9     1.483887      1.865988    2.234620  1.018782     -2.530891   -1.604642   \n",
      "25    1.483887      1.578444    2.890853  1.925289     -0.559020   -1.604642   \n",
      "28    1.483887      1.041693    2.313368  2.063931      1.054328   -1.604642   \n",
      "31   -0.869348     -0.789008   -0.259066 -0.903250     -0.559020   -1.332580   \n",
      "33    0.307270      0.351586   -0.127819 -0.422150     -0.917542   -1.332580   \n",
      "..         ...           ...         ...       ...           ...         ...   \n",
      "369  -0.869348     -0.798593   -0.442811 -0.705359      0.875068    1.660094   \n",
      "375  -0.869348     -0.865687   -0.810302 -1.197124     -0.092942    1.660094   \n",
      "382  -0.869348     -0.836932   -0.915299 -0.883106      0.480693    1.660094   \n",
      "384  -0.869348     -0.999874   -0.994047 -1.214899      0.050467    1.660094   \n",
      "396  -0.869348     -0.721914   -0.679055 -0.432815      1.090181    1.660094   \n",
      "\n",
      "          USA    Europe     Japan  \n",
      "9    0.774676 -0.465148 -0.495225  \n",
      "25   0.774676 -0.465148 -0.495225  \n",
      "28   0.774676 -0.465148 -0.495225  \n",
      "31  -1.286751 -0.465148  2.012852  \n",
      "33   0.774676 -0.465148 -0.495225  \n",
      "..        ...       ...       ...  \n",
      "369  0.774676 -0.465148 -0.495225  \n",
      "375 -1.286751  2.143005 -0.495225  \n",
      "382 -1.286751 -0.465148  2.012852  \n",
      "384 -1.286751 -0.465148  2.012852  \n",
      "396  0.774676 -0.465148 -0.495225  \n",
      "\n",
      "[78 rows x 9 columns]\n"
     ]
    }
   ],
   "source": [
    "normed_train_data = norm(train_dataset)\n",
    "normed_test_data = norm(test_dataset)\n",
    "\n",
    "print(normed_train_data)\n",
    "print(normed_test_data)"
   ],
   "metadata": {
    "collapsed": false,
    "pycharm": {
     "name": "#%%\n"
    }
   }
  },
  {
   "cell_type": "code",
   "execution_count": 25,
   "outputs": [],
   "source": [
    "train_db = tf.data.Dataset.from_tensor_slices((normed_train_data.values,train_labels.values))\n",
    "train_db = train_db.shuffle(100).batch(32)"
   ],
   "metadata": {
    "collapsed": false,
    "pycharm": {
     "name": "#%%\n"
    }
   }
  },
  {
   "cell_type": "code",
   "execution_count": 26,
   "outputs": [],
   "source": [
    "class Network(keras.Model):\n",
    "    # 回归网络\n",
    "    def __init__(self):\n",
    "        super().__init__()\n",
    "        self.fc1 = layers.Dense(64,activation='relu')\n",
    "        self.fc2 = layers.Dense(64,activation='relu')\n",
    "        self.fc3 = layers.Dense(1)\n",
    "\n",
    "    def call(self,inputs,training = None,mask = None):\n",
    "        x = self.fc1(inputs)\n",
    "        x = self.fc2(x)\n",
    "        x = self.fc3(x)\n",
    "\n",
    "        return x"
   ],
   "metadata": {
    "collapsed": false,
    "pycharm": {
     "name": "#%%\n"
    }
   }
  },
  {
   "cell_type": "code",
   "execution_count": 27,
   "outputs": [
    {
     "name": "stdout",
     "output_type": "stream",
     "text": [
      "Model: \"network_1\"\n",
      "_________________________________________________________________\n",
      "Layer (type)                 Output Shape              Param #   \n",
      "=================================================================\n",
      "dense_3 (Dense)              multiple                  640       \n",
      "_________________________________________________________________\n",
      "dense_4 (Dense)              multiple                  4160      \n",
      "_________________________________________________________________\n",
      "dense_5 (Dense)              multiple                  65        \n",
      "=================================================================\n",
      "Total params: 4,865\n",
      "Trainable params: 4,865\n",
      "Non-trainable params: 0\n",
      "_________________________________________________________________\n",
      "None\n"
     ]
    }
   ],
   "source": [
    "model = Network()\n",
    "model.build(input_shape=(4,9))\n",
    "print(model.summary())\n",
    "optimizer = keras.optimizers.RMSprop(0.001)"
   ],
   "metadata": {
    "collapsed": false,
    "pycharm": {
     "name": "#%%\n"
    }
   }
  },
  {
   "cell_type": "code",
   "execution_count": 28,
   "outputs": [
    {
     "name": "stdout",
     "output_type": "stream",
     "text": [
      "0 0 753.5888671875\n",
      "1 0 554.1630859375\n",
      "2 0 500.6622009277344\n",
      "3 0 457.42822265625\n",
      "4 0 316.8514404296875\n",
      "5 0 279.21783447265625\n",
      "6 0 229.71165466308594\n",
      "7 0 157.70005798339844\n",
      "8 0 163.16009521484375\n",
      "9 0 125.22576141357422\n",
      "10 0 70.02790832519531\n",
      "11 0 70.96701049804688\n",
      "12 0 91.25007629394531\n",
      "13 0 65.63526916503906\n",
      "14 0 74.70967864990234\n",
      "15 0 82.88861083984375\n",
      "16 0 79.1527099609375\n",
      "17 0 87.32650756835938\n",
      "18 0 88.6084213256836\n",
      "19 0 49.680686950683594\n",
      "20 0 56.787010192871094\n",
      "21 0 48.838539123535156\n",
      "22 0 78.45997619628906\n",
      "23 0 61.36513900756836\n",
      "24 0 59.82392883300781\n",
      "25 0 67.68736267089844\n",
      "26 0 71.12120819091797\n",
      "27 0 40.48199462890625\n",
      "28 0 51.39344024658203\n",
      "29 0 65.47648620605469\n",
      "30 0 52.51606750488281\n",
      "31 0 69.01856994628906\n",
      "32 0 60.155616760253906\n",
      "33 0 59.070552825927734\n",
      "34 0 63.62898254394531\n",
      "35 0 64.75371551513672\n",
      "36 0 76.92405700683594\n",
      "37 0 75.34886169433594\n",
      "38 0 51.61963653564453\n",
      "39 0 62.6343994140625\n",
      "40 0 75.283203125\n",
      "41 0 71.09419250488281\n",
      "42 0 83.80290985107422\n",
      "43 0 75.86196899414062\n",
      "44 0 75.19175720214844\n",
      "45 0 52.67626953125\n",
      "46 0 62.00749969482422\n",
      "47 0 71.2780990600586\n",
      "48 0 51.52271270751953\n",
      "49 0 59.48268127441406\n",
      "50 0 75.56329345703125\n",
      "51 0 51.93985366821289\n",
      "52 0 73.6880111694336\n",
      "53 0 76.73251342773438\n",
      "54 0 52.93265151977539\n",
      "55 0 77.05424499511719\n",
      "56 0 61.25328063964844\n",
      "57 0 56.277671813964844\n",
      "58 0 67.70956420898438\n",
      "59 0 71.42206573486328\n",
      "60 0 51.02410125732422\n",
      "61 0 56.869285583496094\n",
      "62 0 36.57667541503906\n",
      "63 0 87.00820922851562\n",
      "64 0 66.6633529663086\n",
      "65 0 52.023887634277344\n",
      "66 0 51.534942626953125\n",
      "67 0 44.96034622192383\n",
      "68 0 65.52561950683594\n",
      "69 0 88.72181701660156\n",
      "70 0 54.881431579589844\n",
      "71 0 69.73175048828125\n",
      "72 0 44.53000259399414\n",
      "73 0 52.27671813964844\n",
      "74 0 75.8408432006836\n",
      "75 0 72.83052062988281\n",
      "76 0 54.80131530761719\n",
      "77 0 94.73617553710938\n",
      "78 0 62.678123474121094\n",
      "79 0 64.69876861572266\n",
      "80 0 36.92315673828125\n",
      "81 0 52.78449630737305\n",
      "82 0 66.144775390625\n",
      "83 0 63.33013916015625\n",
      "84 0 72.51976013183594\n",
      "85 0 68.08667755126953\n",
      "86 0 75.50428771972656\n",
      "87 0 69.50205993652344\n",
      "88 0 67.95974731445312\n",
      "89 0 85.31599426269531\n",
      "90 0 41.45370101928711\n",
      "91 0 57.0968017578125\n",
      "92 0 65.25836944580078\n",
      "93 0 53.30218505859375\n",
      "94 0 60.66413497924805\n",
      "95 0 49.84618377685547\n",
      "96 0 51.551490783691406\n",
      "97 0 49.173404693603516\n",
      "98 0 50.65460205078125\n",
      "99 0 72.64505004882812\n",
      "100 0 69.71393585205078\n",
      "101 0 75.59719848632812\n",
      "102 0 68.59799194335938\n",
      "103 0 60.16574478149414\n",
      "104 0 74.02665710449219\n",
      "105 0 71.04056549072266\n",
      "106 0 83.71432495117188\n",
      "107 0 79.51121520996094\n",
      "108 0 78.14180755615234\n",
      "109 0 63.00987243652344\n",
      "110 0 62.364662170410156\n",
      "111 0 46.83624267578125\n",
      "112 0 81.02188110351562\n",
      "113 0 65.54951477050781\n",
      "114 0 61.97999572753906\n",
      "115 0 83.63217163085938\n",
      "116 0 56.996360778808594\n",
      "117 0 68.37686157226562\n",
      "118 0 55.451515197753906\n",
      "119 0 86.3992919921875\n",
      "120 0 40.624732971191406\n",
      "121 0 57.76177978515625\n",
      "122 0 69.28043365478516\n",
      "123 0 70.44657897949219\n",
      "124 0 41.619537353515625\n",
      "125 0 61.649017333984375\n",
      "126 0 53.601627349853516\n",
      "127 0 68.13628387451172\n",
      "128 0 63.30698013305664\n",
      "129 0 61.705318450927734\n",
      "130 0 77.45502471923828\n",
      "131 0 76.58477020263672\n",
      "132 0 53.56191635131836\n",
      "133 0 52.459938049316406\n",
      "134 0 71.43013000488281\n",
      "135 0 64.31053161621094\n",
      "136 0 62.80247116088867\n",
      "137 0 61.2761116027832\n",
      "138 0 86.84835815429688\n",
      "139 0 71.94914245605469\n",
      "140 0 58.57826232910156\n",
      "141 0 84.76956939697266\n",
      "142 0 78.27801513671875\n",
      "143 0 84.42843627929688\n",
      "144 0 81.06401824951172\n",
      "145 0 76.35340118408203\n",
      "146 0 70.32344055175781\n",
      "147 0 52.69123458862305\n",
      "148 0 69.51351928710938\n",
      "149 0 60.955650329589844\n",
      "150 0 67.4710922241211\n",
      "151 0 78.03570556640625\n",
      "152 0 51.96068572998047\n",
      "153 0 52.34727478027344\n",
      "154 0 40.0994758605957\n",
      "155 0 84.70635986328125\n",
      "156 0 58.11961364746094\n",
      "157 0 63.76218795776367\n",
      "158 0 74.35208892822266\n",
      "159 0 52.8117790222168\n",
      "160 0 72.01358032226562\n",
      "161 0 85.51380920410156\n",
      "162 0 69.82368469238281\n",
      "163 0 85.75537109375\n",
      "164 0 74.81869506835938\n",
      "165 0 54.29912567138672\n",
      "166 0 67.95515441894531\n",
      "167 0 89.37954711914062\n",
      "168 0 29.882854461669922\n",
      "169 0 63.93171691894531\n",
      "170 0 59.55234909057617\n",
      "171 0 67.49050903320312\n",
      "172 0 59.172908782958984\n",
      "173 0 60.544429779052734\n",
      "174 0 71.78759002685547\n",
      "175 0 52.9154052734375\n",
      "176 0 57.803382873535156\n",
      "177 0 59.62339401245117\n",
      "178 0 80.23724365234375\n",
      "179 0 76.67794036865234\n",
      "180 0 77.46671295166016\n",
      "181 0 66.63676452636719\n",
      "182 0 88.34477996826172\n",
      "183 0 63.053466796875\n",
      "184 0 63.895782470703125\n",
      "185 0 42.17646026611328\n",
      "186 0 57.1959114074707\n",
      "187 0 58.42430114746094\n",
      "188 0 47.03788757324219\n",
      "189 0 62.97621154785156\n",
      "190 0 79.64448547363281\n",
      "191 0 50.88995361328125\n",
      "192 0 68.98368835449219\n",
      "193 0 57.48163604736328\n",
      "194 0 67.68214416503906\n",
      "195 0 57.364009857177734\n",
      "196 0 86.26350402832031\n",
      "197 0 72.56520080566406\n",
      "198 0 66.54771423339844\n",
      "199 0 77.49627685546875\n"
     ]
    }
   ],
   "source": [
    "loss_list1 = []\n",
    "loss_list2 = []\n",
    "for epoch in range(200):\n",
    "    for step,(x,y) in enumerate(train_db):\n",
    "        with tf.GradientTape() as tape:\n",
    "            out = model(x)\n",
    "            loss = tf.reduce_mean(losses.MSE(y,out))\n",
    "            mae_loss = tf.reduce_mean(losses.MAE(y,out))\n",
    "            \n",
    "            if step % 10 ==0:\n",
    "                loss_list1.append(loss)\n",
    "                loss_list2.append(mae_loss)\n",
    "                print(epoch,step,float(loss))\n",
    "\n",
    "            # 跟新梯度\n",
    "            grads = tape.gradient(target=loss,sources=model.trainable_variables)\n",
    "            optimizer.apply_gradients(zip(grads,model.trainable_variables))"
   ],
   "metadata": {
    "collapsed": false,
    "pycharm": {
     "name": "#%%\n"
    }
   }
  },
  {
   "cell_type": "code",
   "execution_count": 29,
   "outputs": [
    {
     "data": {
      "text/plain": "<Figure size 432x288 with 1 Axes>",
      "image/png": "[encoded data removed]"
     },
     "metadata": {
      "needs_background": "light"
     },
     "output_type": "display_data"
    }
   ],
   "source": [
    "import matplotlib.pyplot as plt\n",
    "\n",
    "plt.figure()\n",
    "plt.plot(range(200),loss_list1,range(200),loss_list2)\n",
    "plt.show()"
   ],
   "metadata": {
    "collapsed": false,
    "pycharm": {
     "name": "#%%\n"
    }
   }
  }
 ],
 "metadata": {
  "kernelspec": {
   "display_name": "Python 3",
   "language": "python",
   "name": "python3"
  },
  "language_info": {
   "codemirror_mode": {
    "name": "ipython",
    "version": 2
   },
   "file_extension": ".py",
   "mimetype": "text/x-python",
   "name": "python",
   "nbconvert_exporter": "python",
   "pygments_lexer": "ipython2",
   "version": "2.7.6"
  }
 },
 "nbformat": 4,
 "nbformat_minor": 0
}
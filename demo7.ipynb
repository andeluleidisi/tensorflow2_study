{
 "cells": [
  {
   "cell_type": "code",
   "execution_count": 10,
   "metadata": {
    "collapsed": true
   },
   "outputs": [],
   "source": [
    "import tensorflow as tf\n",
    "import tensorflow.keras as keras"
   ]
  },
  {
   "cell_type": "code",
   "execution_count": 2,
   "outputs": [
    {
     "data": {
      "text/plain": "(TensorShape([784, 512]), TensorShape([512]))"
     },
     "execution_count": 2,
     "metadata": {},
     "output_type": "execute_result"
    }
   ],
   "source": [
    "x = tf.random.normal([4,28*28])\n",
    "\n",
    "net = tf.keras.layers.Dense(512)\n",
    "out = net(x)\n",
    "\n",
    "net.kernel.shape,net.bias.shape"
   ],
   "metadata": {
    "collapsed": false,
    "pycharm": {
     "name": "#%%\n"
    }
   }
  },
  {
   "cell_type": "code",
   "execution_count": 8,
   "outputs": [
    {
     "data": {
      "text/plain": "<tf.Variable 'kernel:0' shape=(4, 10) dtype=float32, numpy=\narray([[-0.3208346 , -0.4185381 ,  0.30537534, -0.2790639 ,  0.5123508 ,\n         0.64215195,  0.21618646, -0.15836367, -0.46570504,  0.39846802],\n       [-0.03021801,  0.26764888, -0.06206989, -0.03830916, -0.07561886,\n        -0.43712258, -0.4708907 ,  0.09163254,  0.63978314,  0.11729795],\n       [-0.08004004,  0.3303551 ,  0.6009376 , -0.2862543 ,  0.27061367,\n         0.01420796, -0.45639992, -0.39119354,  0.29385483,  0.0710324 ],\n       [-0.41060042, -0.5611692 ,  0.6486857 ,  0.27471972, -0.24149165,\n         0.08357811, -0.16375113,  0.646103  ,  0.02519202,  0.24264038]],\n      dtype=float32)>"
     },
     "execution_count": 8,
     "metadata": {},
     "output_type": "execute_result"
    }
   ],
   "source": [
    "net = tf.keras.layers.Dense(10)\n",
    "# net.bias\n",
    "net.get_weights(),net.weights\n",
    "net.build(input_shape=[None,4])\n",
    "net.kernel.shape,net.bias.shape\n",
    "net.kernel"
   ],
   "metadata": {
    "collapsed": false,
    "pycharm": {
     "name": "#%%\n"
    }
   }
  },
  {
   "cell_type": "code",
   "execution_count": 11,
   "outputs": [
    {
     "name": "stdout",
     "output_type": "stream",
     "text": [
      "Model: \"sequential\"\n",
      "_________________________________________________________________\n",
      "Layer (type)                 Output Shape              Param #   \n",
      "=================================================================\n",
      "dense_7 (Dense)              (None, 2)                 10        \n",
      "_________________________________________________________________\n",
      "dense_8 (Dense)              (None, 2)                 6         \n",
      "_________________________________________________________________\n",
      "dense_9 (Dense)              (None, 2)                 6         \n",
      "=================================================================\n",
      "Total params: 22\n",
      "Trainable params: 22\n",
      "Non-trainable params: 0\n",
      "_________________________________________________________________\n",
      "dense_7/kernel:0 (4, 2)\n",
      "dense_7/bias:0 (2,)\n",
      "dense_8/kernel:0 (2, 2)\n",
      "dense_8/bias:0 (2,)\n",
      "dense_9/kernel:0 (2, 2)\n",
      "dense_9/bias:0 (2,)\n"
     ]
    }
   ],
   "source": [
    "x = tf.random.normal([2,3])\n",
    "model = keras.Sequential(\n",
    "    layers=[\n",
    "        keras.layers.Dense(2,activation=\"relu\"),\n",
    "        keras.layers.Dense(2,activation=\"relu\"),\n",
    "        keras.layers.Dense(2)\n",
    "    ]\n",
    ")\n",
    "model.build(input_shape=[None,4])\n",
    "model.summary()\n",
    "for p in model.trainable_variables:\n",
    "    print(p.name,p.shape)"
   ],
   "metadata": {
    "collapsed": false,
    "pycharm": {
     "name": "#%%\n"
    }
   }
  }
 ],
 "metadata": {
  "kernelspec": {
   "display_name": "Python 3",
   "language": "python",
   "name": "python3"
  },
  "language_info": {
   "codemirror_mode": {
    "name": "ipython",
    "version": 2
   },
   "file_extension": ".py",
   "mimetype": "text/x-python",
   "name": "python",
   "nbconvert_exporter": "python",
   "pygments_lexer": "ipython2",
   "version": "2.7.6"
  }
 },
 "nbformat": 4,
 "nbformat_minor": 0
}
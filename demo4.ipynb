{
 "cells": [
  {
   "cell_type": "code",
   "execution_count": 1,
   "metadata": {
    "collapsed": true
   },
   "outputs": [],
   "source": [
    "import tensorflow as tf\n",
    "import numpy as np"
   ]
  },
  {
   "cell_type": "code",
   "execution_count": 10,
   "outputs": [
    {
     "name": "stdout",
     "output_type": "stream",
     "text": [
      "(3, 2, 3)\n"
     ]
    }
   ],
   "source": [
    "# 合并与分割\n",
    "a = tf.random.normal(shape=[2,2,3])\n",
    "b = tf.random.normal(shape=[1,2,3])\n",
    "\n",
    "# 合并  (其合并维度可以不一样，但是其他维度的大小必须相等)\n",
    "c = tf.concat(values=[a,b],axis=0)\n",
    "print(c.shape)"
   ],
   "metadata": {
    "collapsed": false,
    "pycharm": {
     "name": "#%%\n"
    }
   }
  },
  {
   "cell_type": "code",
   "execution_count": 21,
   "outputs": [
    {
     "data": {
      "text/plain": "<tf.Tensor: shape=(2, 2, 2, 3), dtype=float32, numpy=\narray([[[[1., 1., 1.],\n         [1., 1., 1.]],\n\n        [[1., 1., 1.],\n         [1., 1., 1.]]],\n\n\n       [[[1., 1., 1.],\n         [1., 1., 1.]],\n\n        [[1., 1., 1.],\n         [1., 1., 1.]]]], dtype=float32)>"
     },
     "execution_count": 21,
     "metadata": {},
     "output_type": "execute_result"
    }
   ],
   "source": [
    "a = tf.ones([2,2,3])\n",
    "b = tf.ones([2,2,3])\n",
    "\n",
    "# 合并  （其合并并在指定维度上创造出新的维度，原维度必须相同，指定维度的范围为原维度的数量上加一）\n",
    "c = tf.stack(values=[a,b],axis=0)\n",
    "c"
   ],
   "metadata": {
    "collapsed": false,
    "pycharm": {
     "name": "#%%\n"
    }
   }
  },
  {
   "cell_type": "code",
   "execution_count": 38,
   "outputs": [
    {
     "data": {
      "text/plain": "[<tf.Tensor: shape=(2, 4, 35), dtype=int32, numpy=\n array([[[6, 7, 3, 6, 5, 8, 7, 5, 1, 4, 8, 2, 2, 3, 8, 5, 5, 1, 1, 3, 8,\n          1, 6, 3, 8, 5, 3, 1, 4, 7, 4, 8, 5, 2, 2],\n         [2, 5, 6, 4, 8, 5, 6, 7, 3, 7, 2, 7, 2, 5, 6, 2, 6, 3, 5, 6, 7,\n          8, 4, 3, 5, 6, 7, 2, 6, 8, 7, 2, 6, 4, 6],\n         [4, 7, 8, 7, 3, 5, 3, 6, 4, 1, 3, 5, 4, 8, 2, 4, 3, 5, 8, 8, 7,\n          8, 1, 3, 4, 5, 4, 4, 1, 5, 1, 4, 2, 1, 2],\n         [1, 7, 1, 1, 8, 1, 7, 1, 7, 8, 1, 3, 8, 8, 1, 6, 1, 1, 3, 3, 1,\n          5, 2, 6, 6, 6, 8, 1, 1, 7, 6, 5, 4, 8, 6]],\n \n        [[3, 8, 3, 6, 3, 2, 7, 8, 8, 4, 7, 6, 6, 1, 4, 8, 3, 5, 3, 8, 7,\n          3, 5, 8, 3, 5, 4, 2, 6, 7, 7, 1, 3, 3, 3],\n         [3, 8, 7, 7, 4, 2, 6, 3, 1, 8, 3, 2, 6, 4, 4, 5, 3, 2, 5, 3, 4,\n          4, 8, 5, 7, 5, 3, 3, 4, 2, 3, 5, 4, 3, 5],\n         [5, 1, 6, 6, 1, 8, 6, 6, 7, 1, 1, 2, 5, 3, 8, 5, 6, 7, 5, 4, 8,\n          6, 2, 1, 7, 1, 5, 4, 2, 7, 3, 5, 2, 5, 7],\n         [8, 7, 8, 4, 7, 1, 8, 8, 6, 1, 4, 4, 5, 7, 7, 4, 2, 8, 7, 1, 8,\n          6, 4, 1, 8, 4, 1, 1, 5, 7, 6, 1, 1, 6, 2]]])>,\n <tf.Tensor: shape=(2, 4, 35), dtype=int32, numpy=\n array([[[5, 1, 8, 7, 1, 6, 1, 8, 7, 4, 6, 5, 7, 8, 6, 6, 2, 8, 6, 1, 4,\n          2, 6, 6, 6, 4, 3, 1, 2, 3, 8, 5, 5, 1, 5],\n         [4, 3, 1, 1, 1, 7, 3, 3, 1, 2, 4, 7, 2, 8, 7, 6, 7, 3, 7, 4, 7,\n          1, 1, 7, 4, 5, 8, 3, 4, 8, 1, 5, 3, 4, 3],\n         [2, 5, 6, 8, 2, 7, 8, 1, 4, 4, 3, 2, 2, 6, 8, 7, 1, 4, 6, 4, 3,\n          3, 2, 1, 5, 8, 7, 6, 3, 5, 4, 7, 4, 5, 7],\n         [4, 6, 5, 4, 4, 5, 2, 5, 7, 3, 8, 2, 7, 7, 4, 8, 5, 2, 3, 6, 1,\n          2, 4, 4, 8, 6, 4, 3, 3, 6, 3, 8, 5, 2, 1]],\n \n        [[3, 5, 1, 8, 7, 2, 4, 6, 2, 2, 6, 4, 8, 7, 4, 6, 5, 8, 7, 5, 5,\n          6, 5, 4, 3, 5, 1, 8, 1, 1, 5, 6, 2, 5, 2],\n         [6, 8, 7, 4, 4, 7, 4, 5, 6, 1, 1, 3, 5, 6, 2, 6, 4, 2, 3, 5, 8,\n          8, 3, 5, 7, 6, 2, 8, 7, 1, 2, 3, 5, 4, 4],\n         [6, 6, 8, 4, 4, 5, 3, 1, 1, 4, 5, 8, 6, 7, 3, 5, 3, 7, 2, 7, 8,\n          4, 2, 7, 6, 5, 4, 6, 5, 7, 1, 1, 7, 4, 8],\n         [2, 4, 6, 7, 2, 3, 3, 6, 2, 5, 8, 8, 8, 8, 8, 7, 4, 2, 2, 1, 7,\n          7, 5, 5, 5, 1, 4, 2, 7, 4, 7, 8, 5, 4, 7]]])>,\n <tf.Tensor: shape=(2, 4, 35), dtype=int32, numpy=\n array([[[8, 3, 7, 1, 4, 8, 8, 2, 2, 2, 3, 5, 6, 7, 2, 8, 1, 7, 6, 4, 6,\n          1, 7, 6, 1, 1, 5, 1, 3, 2, 3, 4, 2, 1, 7],\n         [5, 7, 3, 4, 6, 1, 4, 2, 4, 2, 3, 1, 5, 5, 2, 7, 6, 1, 8, 1, 7,\n          3, 5, 3, 7, 1, 6, 1, 6, 3, 5, 2, 7, 3, 1],\n         [6, 1, 2, 6, 1, 8, 5, 3, 2, 6, 3, 3, 7, 1, 8, 1, 6, 1, 5, 7, 2,\n          2, 1, 2, 2, 8, 8, 6, 7, 4, 6, 8, 8, 2, 6],\n         [4, 1, 1, 8, 1, 1, 7, 8, 7, 8, 4, 6, 7, 2, 5, 5, 4, 4, 3, 1, 8,\n          6, 1, 1, 4, 8, 8, 6, 6, 2, 5, 2, 7, 5, 8]],\n \n        [[8, 4, 4, 5, 1, 5, 6, 8, 2, 4, 7, 7, 4, 3, 5, 6, 6, 4, 8, 4, 8,\n          7, 5, 3, 7, 1, 7, 5, 3, 2, 1, 8, 1, 5, 7],\n         [7, 3, 2, 5, 2, 6, 5, 1, 1, 4, 5, 5, 7, 3, 6, 8, 8, 6, 5, 8, 2,\n          8, 3, 6, 2, 6, 7, 1, 7, 3, 2, 7, 8, 7, 4],\n         [4, 5, 2, 5, 3, 1, 8, 5, 1, 4, 5, 7, 5, 4, 6, 1, 3, 3, 4, 4, 7,\n          1, 7, 6, 7, 6, 7, 1, 8, 7, 2, 8, 3, 1, 8],\n         [7, 2, 3, 4, 3, 3, 4, 7, 2, 7, 3, 6, 1, 2, 2, 5, 8, 1, 8, 8, 4,\n          1, 6, 1, 6, 6, 2, 4, 8, 3, 7, 1, 7, 2, 4]]])>,\n <tf.Tensor: shape=(2, 4, 35), dtype=int32, numpy=\n array([[[1, 1, 3, 4, 6, 5, 4, 2, 7, 2, 5, 5, 8, 7, 1, 1, 1, 8, 2, 5, 6,\n          6, 5, 5, 6, 7, 6, 1, 4, 7, 4, 7, 2, 1, 4],\n         [4, 1, 3, 7, 8, 3, 8, 7, 6, 6, 1, 1, 8, 7, 8, 4, 2, 3, 7, 6, 4,\n          6, 7, 5, 7, 4, 3, 3, 1, 8, 4, 2, 5, 8, 1],\n         [7, 4, 2, 7, 1, 8, 4, 2, 4, 3, 3, 5, 4, 5, 2, 3, 4, 4, 8, 5, 8,\n          3, 3, 1, 4, 1, 5, 4, 2, 4, 7, 5, 4, 1, 2],\n         [4, 8, 5, 7, 1, 2, 5, 1, 7, 8, 8, 3, 4, 6, 7, 3, 2, 3, 4, 3, 2,\n          4, 3, 7, 8, 3, 2, 7, 8, 8, 5, 8, 8, 5, 6]],\n \n        [[4, 7, 7, 1, 1, 3, 8, 7, 3, 5, 3, 7, 1, 5, 1, 3, 1, 5, 2, 7, 8,\n          8, 6, 5, 1, 5, 2, 1, 8, 2, 5, 7, 1, 8, 5],\n         [2, 8, 2, 1, 3, 6, 4, 5, 5, 1, 6, 1, 8, 8, 8, 3, 1, 8, 6, 5, 6,\n          8, 3, 7, 2, 2, 6, 4, 5, 7, 7, 2, 8, 8, 5],\n         [6, 2, 4, 2, 3, 7, 2, 5, 4, 4, 2, 1, 4, 2, 7, 4, 3, 1, 7, 2, 8,\n          1, 7, 8, 3, 6, 6, 4, 3, 2, 3, 7, 2, 7, 5],\n         [4, 3, 6, 8, 4, 4, 5, 8, 3, 5, 5, 4, 3, 1, 3, 6, 5, 2, 1, 8, 4,\n          6, 3, 4, 3, 6, 7, 2, 3, 6, 7, 2, 6, 5, 6]]])>,\n <tf.Tensor: shape=(2, 4, 35), dtype=int32, numpy=\n array([[[7, 6, 1, 3, 3, 1, 3, 8, 1, 6, 1, 3, 2, 6, 1, 2, 8, 5, 3, 4, 2,\n          7, 5, 2, 6, 5, 8, 1, 7, 6, 6, 4, 1, 3, 1],\n         [6, 8, 7, 8, 8, 5, 3, 7, 1, 4, 7, 4, 5, 8, 5, 4, 6, 3, 2, 4, 8,\n          8, 8, 7, 6, 4, 2, 6, 7, 2, 6, 5, 8, 7, 4],\n         [2, 7, 2, 6, 1, 8, 3, 4, 1, 3, 7, 7, 7, 5, 2, 2, 4, 7, 3, 4, 5,\n          6, 8, 2, 1, 4, 6, 5, 3, 6, 1, 6, 8, 1, 8],\n         [6, 6, 2, 7, 1, 6, 5, 3, 7, 1, 2, 8, 1, 6, 8, 4, 2, 1, 3, 4, 6,\n          8, 2, 2, 5, 2, 3, 7, 1, 4, 2, 2, 3, 5, 2]],\n \n        [[2, 6, 1, 2, 4, 2, 2, 7, 3, 4, 5, 6, 1, 2, 7, 8, 6, 6, 7, 2, 5,\n          2, 5, 5, 6, 2, 7, 5, 3, 6, 3, 6, 4, 8, 3],\n         [3, 3, 4, 6, 6, 3, 5, 8, 5, 6, 3, 2, 6, 2, 4, 6, 7, 6, 6, 5, 4,\n          4, 7, 3, 2, 7, 8, 5, 2, 3, 6, 4, 3, 1, 6],\n         [1, 2, 7, 6, 1, 4, 4, 7, 3, 8, 3, 6, 3, 8, 5, 4, 6, 1, 8, 7, 4,\n          3, 7, 3, 7, 8, 2, 1, 4, 1, 6, 8, 4, 2, 6],\n         [2, 8, 5, 5, 2, 6, 6, 6, 8, 1, 8, 6, 2, 2, 2, 6, 7, 1, 5, 5, 2,\n          5, 6, 2, 4, 4, 5, 6, 1, 1, 4, 3, 8, 1, 2]]])>,\n <tf.Tensor: shape=(2, 4, 35), dtype=int32, numpy=\n array([[[3, 2, 1, 1, 3, 2, 5, 4, 4, 1, 7, 5, 7, 7, 6, 5, 6, 1, 1, 5, 6,\n          1, 6, 8, 5, 2, 4, 7, 4, 7, 3, 8, 3, 3, 8],\n         [8, 1, 8, 5, 6, 3, 1, 2, 7, 1, 8, 3, 4, 8, 2, 8, 7, 5, 8, 6, 4,\n          7, 4, 5, 6, 5, 3, 4, 1, 2, 4, 1, 5, 3, 6],\n         [8, 6, 2, 5, 2, 2, 7, 2, 8, 8, 5, 4, 7, 5, 3, 7, 6, 5, 6, 8, 4,\n          6, 8, 1, 6, 2, 5, 7, 4, 2, 2, 1, 5, 4, 6],\n         [7, 8, 5, 2, 2, 2, 8, 7, 7, 3, 8, 1, 8, 3, 2, 1, 4, 1, 2, 7, 6,\n          4, 6, 4, 7, 7, 6, 2, 3, 1, 3, 2, 3, 7, 4]],\n \n        [[2, 4, 1, 3, 4, 1, 6, 6, 4, 8, 4, 6, 8, 2, 6, 7, 6, 3, 3, 4, 4,\n          7, 7, 6, 4, 7, 8, 4, 7, 5, 5, 5, 6, 4, 1],\n         [5, 1, 8, 2, 4, 6, 4, 2, 5, 7, 3, 5, 8, 1, 4, 3, 6, 7, 3, 5, 4,\n          2, 1, 5, 6, 2, 8, 4, 6, 1, 1, 8, 5, 7, 5],\n         [2, 3, 2, 4, 2, 1, 4, 5, 7, 5, 2, 4, 5, 6, 5, 1, 7, 2, 8, 2, 4,\n          4, 8, 8, 6, 5, 4, 4, 8, 1, 1, 4, 4, 1, 3],\n         [1, 5, 1, 6, 7, 3, 5, 5, 7, 3, 5, 3, 3, 1, 2, 1, 7, 7, 6, 7, 6,\n          5, 5, 5, 7, 1, 6, 1, 6, 8, 4, 2, 1, 5, 1]]])>,\n <tf.Tensor: shape=(2, 4, 35), dtype=int32, numpy=\n array([[[8, 8, 8, 8, 2, 2, 4, 1, 8, 3, 7, 2, 6, 8, 3, 1, 3, 4, 7, 2, 7,\n          6, 3, 6, 6, 3, 3, 4, 2, 1, 3, 3, 1, 7, 5],\n         [4, 6, 1, 5, 7, 4, 2, 5, 5, 6, 3, 6, 7, 3, 1, 6, 5, 6, 1, 2, 2,\n          8, 5, 4, 4, 6, 8, 2, 2, 2, 8, 7, 8, 3, 7],\n         [7, 7, 6, 6, 5, 4, 4, 1, 7, 5, 5, 5, 4, 5, 3, 1, 7, 6, 5, 3, 6,\n          3, 8, 2, 8, 7, 4, 4, 7, 7, 3, 7, 2, 6, 5],\n         [2, 7, 2, 1, 4, 3, 8, 8, 7, 6, 3, 8, 1, 2, 7, 4, 6, 1, 6, 7, 2,\n          4, 5, 7, 6, 1, 1, 7, 5, 2, 3, 8, 4, 2, 2]],\n \n        [[7, 1, 3, 8, 1, 3, 4, 6, 7, 3, 5, 8, 4, 4, 2, 7, 8, 3, 5, 3, 3,\n          8, 1, 8, 6, 4, 3, 6, 5, 7, 1, 5, 2, 1, 7],\n         [5, 4, 3, 7, 2, 4, 5, 2, 2, 7, 1, 5, 6, 6, 8, 2, 6, 2, 1, 7, 5,\n          2, 6, 8, 4, 6, 8, 3, 7, 8, 4, 6, 2, 1, 3],\n         [5, 3, 2, 8, 2, 4, 4, 1, 4, 8, 5, 7, 8, 8, 7, 3, 3, 8, 6, 8, 6,\n          3, 7, 8, 5, 7, 2, 4, 8, 4, 4, 2, 6, 5, 3],\n         [5, 2, 5, 3, 1, 7, 8, 3, 4, 2, 3, 8, 4, 4, 4, 7, 1, 5, 8, 4, 1,\n          6, 5, 1, 7, 8, 8, 4, 8, 4, 5, 7, 2, 3, 6]]])>,\n <tf.Tensor: shape=(2, 4, 35), dtype=int32, numpy=\n array([[[6, 5, 5, 2, 3, 5, 3, 4, 6, 3, 7, 1, 7, 2, 5, 7, 1, 4, 3, 1, 6,\n          7, 4, 7, 3, 7, 3, 3, 2, 1, 3, 5, 1, 1, 1],\n         [1, 8, 7, 8, 4, 5, 6, 5, 8, 5, 5, 5, 4, 5, 7, 5, 3, 5, 5, 7, 8,\n          4, 6, 6, 1, 5, 8, 6, 1, 3, 1, 6, 5, 2, 2],\n         [1, 1, 8, 4, 8, 4, 2, 1, 5, 5, 6, 2, 3, 8, 8, 3, 1, 6, 2, 2, 7,\n          5, 5, 4, 6, 3, 2, 3, 3, 7, 3, 6, 1, 6, 6],\n         [2, 2, 2, 6, 1, 2, 4, 8, 8, 4, 3, 7, 2, 4, 3, 1, 7, 3, 8, 5, 4,\n          2, 7, 1, 3, 6, 7, 6, 1, 1, 7, 8, 2, 7, 3]],\n \n        [[6, 6, 3, 5, 8, 4, 3, 2, 2, 4, 6, 2, 4, 8, 4, 1, 4, 1, 8, 6, 3,\n          4, 2, 3, 8, 2, 8, 4, 2, 8, 6, 4, 5, 5, 1],\n         [6, 6, 5, 5, 2, 7, 7, 4, 7, 4, 2, 2, 1, 6, 4, 5, 6, 1, 1, 1, 8,\n          6, 5, 4, 4, 4, 5, 7, 8, 8, 2, 5, 4, 4, 3],\n         [1, 3, 4, 8, 6, 6, 4, 4, 7, 6, 8, 7, 4, 1, 3, 5, 2, 8, 7, 1, 3,\n          8, 1, 5, 8, 8, 5, 8, 1, 7, 8, 1, 2, 3, 7],\n         [8, 1, 6, 1, 2, 1, 1, 7, 3, 6, 7, 2, 7, 1, 6, 3, 4, 5, 3, 3, 2,\n          7, 5, 1, 7, 1, 5, 3, 5, 6, 8, 2, 3, 2, 6]]])>]"
     },
     "execution_count": 38,
     "metadata": {},
     "output_type": "execute_result"
    }
   ],
   "source": [
    "a = tf.convert_to_tensor(np.random.randint(low=1,high=9,size=[2,4,35,8]))\n",
    "\n",
    "# 分割  （分割指定的维度，返回指定被分割维度的新生成列表，列表里的每一个元素存放一个tensor，num必须与指定维度的大小相同）\n",
    "b = tf.unstack(value=a,num=8,axis=3)\n",
    "b"
   ],
   "metadata": {
    "collapsed": false,
    "pycharm": {
     "name": "#%%\n"
    }
   }
  },
  {
   "cell_type": "code",
   "execution_count": 5,
   "outputs": [
    {
     "name": "stdout",
     "output_type": "stream",
     "text": [
      "(2, 4, 2, 8)\n"
     ]
    }
   ],
   "source": [
    "a = tf.convert_to_tensor(np.random.randint(low=0,high=10,size=[2,4,28,8]))\n",
    "# 将指定维度切割成指定数量的tensor\n",
    "# b = tf.split(value=a,num_or_size_splits=4,axis=2)\n",
    "b = tf.split(value=a,num_or_size_splits=[2,4,8,14],axis=2)\n",
    "print(b[0].shape)"
   ],
   "metadata": {
    "collapsed": false,
    "pycharm": {
     "name": "#%%\n"
    }
   }
  },
  {
   "cell_type": "code",
   "execution_count": 8,
   "outputs": [
    {
     "name": "stdout",
     "output_type": "stream",
     "text": [
      "tf.Tensor(2.0, shape=(), dtype=float32)\n",
      "tf.Tensor([2. 2.], shape=(2,), dtype=float32)\n"
     ]
    }
   ],
   "source": [
    "a = tf.ones(shape=[2,2])\n",
    "# norm 范数函数 ord默认为2即为2范数 所有元素平方和的根号\n",
    "b = tf.norm(tensor=a)\n",
    "print(b)\n",
    "\n",
    "b = tf.norm(tensor=a,ord=1,axis=1)\n",
    "print(b)"
   ],
   "metadata": {
    "collapsed": false,
    "pycharm": {
     "name": "#%%\n"
    }
   }
  },
  {
   "cell_type": "code",
   "execution_count": 19,
   "outputs": [
    {
     "name": "stdout",
     "output_type": "stream",
     "text": [
      "tf.Tensor(0, shape=(), dtype=int32)\n",
      "tf.Tensor([9 9], shape=(2,), dtype=int32)\n",
      "tf.Tensor([0 1 2 3 4 5 6 7 8 9], shape=(10,), dtype=int32)\n"
     ]
    }
   ],
   "source": [
    "\n",
    "b = tf.reduce_min(input_tensor=a)\n",
    "print(b)\n",
    "b= tf.reduce_max(input_tensor=a,axis=1)\n",
    "print(b)\n",
    "b = tf.reduce_mean(input_tensor=a,axis=0)\n",
    "print(b)"
   ],
   "metadata": {
    "collapsed": false,
    "pycharm": {
     "name": "#%%\n"
    }
   }
  },
  {
   "cell_type": "code",
   "execution_count": 2,
   "outputs": [
    {
     "name": "stdout",
     "output_type": "stream",
     "text": [
      "tf.Tensor(\n",
      "[[74 17 45  3 33 41 80 71 53 95]\n",
      " [61  7 15 11 78 51  8 95 96 43]\n",
      " [48 71 31 11 76 30 67 43 44 72]\n",
      " [24 52 34  0 71 63 69 44  6  3]], shape=(4, 10), dtype=int32)\n",
      "tf.Tensor([0 2 0 1 1 3 0 1 1 0], shape=(10,), dtype=int64)\n"
     ]
    }
   ],
   "source": [
    "a = tf.convert_to_tensor(np.random.randint(low=0,high=100,size=[4,10]))\n",
    "# 返回每列数值最大的下标\n",
    "b = tf.argmax(a,axis=0)\n",
    "print(a)\n",
    "print(b)"
   ],
   "metadata": {
    "collapsed": false,
    "pycharm": {
     "name": "#%%\n"
    }
   }
  },
  {
   "cell_type": "code",
   "execution_count": 12,
   "outputs": [
    {
     "name": "stdout",
     "output_type": "stream",
     "text": [
      "tf.Tensor([0 5 5 0 9], shape=(5,), dtype=int32)\n",
      "tf.Tensor([9 2 4 0 0], shape=(5,), dtype=int32)\n"
     ]
    },
    {
     "data": {
      "text/plain": "<tf.Tensor: shape=(5,), dtype=bool, numpy=array([False, False, False,  True, False])>"
     },
     "execution_count": 12,
     "metadata": {},
     "output_type": "execute_result"
    }
   ],
   "source": [
    "a = tf.random.uniform(shape=[5],maxval=10,minval=0,dtype=tf.int32)\n",
    "b = tf.random.uniform(shape=[5],maxval=10,minval=0,dtype=tf.int32)\n",
    "c = tf.equal(a,b)\n",
    "print(a)\n",
    "print(b)\n",
    "c"
   ],
   "metadata": {
    "collapsed": false,
    "pycharm": {
     "name": "#%%\n"
    }
   }
  },
  {
   "cell_type": "code",
   "execution_count": 14,
   "outputs": [
    {
     "name": "stdout",
     "output_type": "stream",
     "text": [
      "tf.Tensor([4 2 8], shape=(3,), dtype=int32)\n",
      "tf.Tensor([0 1 1 2], shape=(4,), dtype=int32)\n"
     ]
    }
   ],
   "source": [
    "a = tf.constant([4,2,2,8])\n",
    "# 去除重复元素，并返回去除后的结果和由于还原的下标列表\n",
    "b,indexs = tf.unique(a)\n",
    "print(b)\n",
    "print(indexs)"
   ],
   "metadata": {
    "collapsed": false,
    "pycharm": {
     "name": "#%%\n"
    }
   }
  },
  {
   "cell_type": "code",
   "execution_count": 16,
   "outputs": [
    {
     "name": "stdout",
     "output_type": "stream",
     "text": [
      "tf.Tensor(\n",
      "[[2 4 5 7 0 6 1 3]\n",
      " [0 5 4 7 2 1 3 6]], shape=(2, 8), dtype=int32)\n"
     ]
    }
   ],
   "source": [
    "a = tf.random.uniform(shape=[2,8],minval=0,maxval=10,dtype=tf.int32)\n",
    "# 返回排序后数的下标\n",
    "b = tf.argsort(values=a)\n",
    "print(b)"
   ],
   "metadata": {
    "collapsed": false,
    "pycharm": {
     "name": "#%%\n"
    }
   }
  },
  {
   "cell_type": "code",
   "execution_count": 16,
   "outputs": [
    {
     "name": "stdout",
     "output_type": "stream",
     "text": [
      "prob: [[0.07092398 0.45647112 0.28407836 0.0986164  0.07108837 0.01882171]\n",
      " [0.09400044 0.633499   0.01791293 0.19099584 0.00937884 0.05421297]\n",
      " [0.037146   0.14955747 0.0892282  0.03838715 0.5520713  0.13360992]\n",
      " [0.18911383 0.10277313 0.15598328 0.37790042 0.02610186 0.14812753]\n",
      " [0.08480476 0.2798715  0.12074472 0.11277805 0.34854317 0.05325782]\n",
      " [0.10458001 0.29127485 0.04326278 0.04354617 0.05151158 0.46582457]\n",
      " [0.12780125 0.21335086 0.14902811 0.07599062 0.0580873  0.37574187]\n",
      " [0.03602464 0.16124883 0.52969116 0.00787041 0.154847   0.11031789]\n",
      " [0.08850855 0.34216738 0.11101062 0.22776408 0.05315229 0.17739715]\n",
      " [0.04780628 0.56260496 0.05955708 0.04174819 0.12936485 0.15891863]]\n",
      "tf.Tensor([1 1 4 3 4 5 5 2 1 1], shape=(10,), dtype=int64)\n",
      "pred: [1 1 4 3 4 5 5 2 1 1]\n",
      "label: [1 3 3 5 0 2 5 4 1 4]\n",
      "top-1-6 acc: [30.0, 40.0, 60.0, 70.0, 90.0, 100.0]\n"
     ]
    }
   ],
   "source": [
    "def accuracy(output, target, topk=(1,)):\n",
    "    maxk = max(topk)\n",
    "    batch_size = target.shape[0]\n",
    "\n",
    "    pred = tf.math.top_k(output, maxk).indices\n",
    "    pred = tf.transpose(pred, perm=[1, 0])\n",
    "    target_ = tf.broadcast_to(target, pred.shape)\n",
    "    # [10, b]\n",
    "    correct = tf.equal(pred, target_)\n",
    "\n",
    "    res = []\n",
    "    for k in topk:\n",
    "        correct_k = tf.cast(tf.reshape(correct[:k], [-1]), dtype=tf.float32)\n",
    "        correct_k = tf.reduce_sum(correct_k)\n",
    "        acc = float(correct_k* (100.0 / batch_size) )\n",
    "        res.append(acc)\n",
    "\n",
    "    return res\n",
    "\n",
    "output = tf.random.normal([10,6])\n",
    "# print(output)\n",
    "# 将数字非负化，数字在0~1之间  指定维度上的概率和为1\n",
    "output = tf.math.softmax(output,axis=1)\n",
    "# print(output)\n",
    "target = tf.random.uniform([10], maxval=6, dtype=tf.int32)\n",
    "print('prob:', output.numpy())\n",
    "pred = tf.argmax(output, axis=1)\n",
    "print(pred)\n",
    "print('pred:', pred.numpy())\n",
    "print('label:', target.numpy())\n",
    "\n",
    "acc = accuracy(output, target, topk=(1,2,3,4,5,6))\n",
    "print('top-1-6 acc:', acc)"
   ],
   "metadata": {
    "collapsed": false,
    "pycharm": {
     "name": "#%%\n"
    }
   }
  },
  {
   "cell_type": "code",
   "execution_count": 19,
   "outputs": [
    {
     "name": "stdout",
     "output_type": "stream",
     "text": [
      "tf.Tensor(\n",
      "[[8 1 5]\n",
      " [5 2 5]\n",
      " [5 3 2]], shape=(3, 3), dtype=int32)\n",
      "tf.Tensor(\n",
      "[[0 8 1 5]\n",
      " [0 5 2 5]\n",
      " [0 5 3 2]\n",
      " [0 0 0 0]], shape=(4, 4), dtype=int32)\n"
     ]
    }
   ],
   "source": [
    "a = tf.convert_to_tensor(np.random.randint(low=0,high=10,size=[3,3]))\n",
    "print(a)\n",
    "# 参数paddings的顺序上下左右\n",
    "b = tf.pad(tensor=a,paddings=[[0,1],[1,0]])\n",
    "print(b)"
   ],
   "metadata": {
    "collapsed": false,
    "pycharm": {
     "name": "#%%\n"
    }
   }
  },
  {
   "cell_type": "code",
   "execution_count": 21,
   "outputs": [
    {
     "name": "stdout",
     "output_type": "stream",
     "text": [
      "tf.Tensor(\n",
      "[[4 0 5]\n",
      " [0 3 4]\n",
      " [5 0 2]], shape=(3, 3), dtype=int32)\n",
      "tf.Tensor(\n",
      "[[4 0 5]\n",
      " [0 3 4]\n",
      " [5 0 2]\n",
      " [4 0 5]\n",
      " [0 3 4]\n",
      " [5 0 2]\n",
      " [4 0 5]\n",
      " [0 3 4]\n",
      " [5 0 2]], shape=(9, 3), dtype=int32)\n"
     ]
    }
   ],
   "source": [
    "a = tf.convert_to_tensor(np.random.randint(low=0,high=10,size=[3,3]))\n",
    "# 参数multiples的数值为原张量的倍数\n",
    "b = tf.tile(input=a,multiples=[3,1])\n",
    "print(a)\n",
    "print(b)"
   ],
   "metadata": {
    "collapsed": false,
    "pycharm": {
     "name": "#%%\n"
    }
   }
  },
  {
   "cell_type": "code",
   "execution_count": 26,
   "outputs": [
    {
     "name": "stdout",
     "output_type": "stream",
     "text": [
      "tf.Tensor([-2 13  2 11  8 19 15  7  0  4], shape=(10,), dtype=int32)\n",
      "tf.Tensor([ 0 13  2 11  8 19 15  7  0  4], shape=(10,), dtype=int32)\n",
      "tf.Tensor([-2 13  2 11  8 19 15  7  0  4], shape=(10,), dtype=int32)\n",
      "tf.Tensor([-2 10  2 10  8 10 10  7  0  4], shape=(10,), dtype=int32)\n",
      "tf.Tensor([0 9 2 9 8 9 9 7 0 4], shape=(10,), dtype=int32)\n"
     ]
    }
   ],
   "source": [
    "a = tf.random.uniform(shape=[10],minval=-5,maxval=20,dtype=tf.int32)\n",
    "# 将不满足a>=0的值改成0\n",
    "b = tf.maximum(a,0)\n",
    "print(a)\n",
    "print(b)\n",
    "# 将不满足a<=0的值改成10\n",
    "b = tf.minimum(a,10)\n",
    "print(a)\n",
    "print(b)\n",
    "\n",
    "b = tf.clip_by_value(a,clip_value_max=9,clip_value_min=0)\n",
    "print(b)"
   ],
   "metadata": {
    "collapsed": false,
    "pycharm": {
     "name": "#%%\n"
    }
   }
  },
  {
   "cell_type": "code",
   "execution_count": 25,
   "outputs": [
    {
     "name": "stdout",
     "output_type": "stream",
     "text": [
      "tf.Tensor([16 19  0 16  2  9 10  7 19  6], shape=(10,), dtype=int32)\n"
     ]
    }
   ],
   "source": [
    "a = tf.random.uniform(shape=[10],minval=-5,maxval=20,dtype=tf.int32)\n",
    "# 把所有的负值都变为0，而正值不变，这种操作被成为单侧抑制。\n",
    "a = tf.nn.relu(a)\n",
    "print(a)"
   ],
   "metadata": {
    "collapsed": false,
    "pycharm": {
     "name": "#%%\n"
    }
   }
  },
  {
   "cell_type": "code",
   "execution_count": 39,
   "outputs": [
    {
     "name": "stdout",
     "output_type": "stream",
     "text": [
      "tf.Tensor(\n",
      "[[ True  True False]\n",
      " [ True False False]\n",
      " [False  True False]], shape=(3, 3), dtype=bool)\n",
      "tf.Tensor([1.1451882  0.1132425  1.4096942  0.20118167], shape=(4,), dtype=float32)\n",
      "tf.Tensor(\n",
      "[[1. 1. 0.]\n",
      " [1. 0. 0.]\n",
      " [0. 1. 0.]], shape=(3, 3), dtype=float32)\n"
     ]
    }
   ],
   "source": [
    "a = tf.random.normal([3,3])\n",
    "# print(a)\n",
    "mask = a > 0\n",
    "print(mask)\n",
    "# 提取mask为True时的a的值\n",
    "b = tf.boolean_mask(a,mask)\n",
    "# print(b)\n",
    "# 提取True的坐标值\n",
    "b = tf.where(condition=mask)\n",
    "c = tf.gather_nd(a,b)\n",
    "print(c)\n",
    "\n",
    "A = tf.ones([3,3])\n",
    "B = tf.zeros([3,3])\n",
    "# True取A的值，Fasle取B的值\n",
    "c = tf.where(mask,A,B)\n",
    "print(c)"
   ],
   "metadata": {
    "collapsed": false,
    "pycharm": {
     "name": "#%%\n"
    }
   }
  },
  {
   "cell_type": "code",
   "execution_count": 40,
   "outputs": [
    {
     "name": "stdout",
     "output_type": "stream",
     "text": [
      "tf.Tensor([ 0 11  0 10  9  0  0 12], shape=(8,), dtype=int32)\n"
     ]
    }
   ],
   "source": [
    "indecies = tf.constant([[4],[3],[1],[7]])\n",
    "updata = tf.constant([9,10,11,12])\n",
    "shape = tf.constant([8])\n",
    "a = tf.scatter_nd(indecies,updata,shape)\n",
    "print(a)"
   ],
   "metadata": {
    "collapsed": false,
    "pycharm": {
     "name": "#%%\n"
    }
   }
  }
 ],
 "metadata": {
  "kernelspec": {
   "display_name": "Python 3",
   "language": "python",
   "name": "python3"
  },
  "language_info": {
   "codemirror_mode": {
    "name": "ipython",
    "version": 2
   },
   "file_extension": ".py",
   "mimetype": "text/x-python",
   "name": "python",
   "nbconvert_exporter": "python",
   "pygments_lexer": "ipython2",
   "version": "2.7.6"
  }
 },
 "nbformat": 4,
 "nbformat_minor": 0
}